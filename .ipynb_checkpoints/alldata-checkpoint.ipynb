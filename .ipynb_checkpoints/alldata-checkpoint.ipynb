{
 "cells": [
  {
   "cell_type": "markdown",
   "id": "92bccf1e",
   "metadata": {},
   "source": [
    "# data discovery\n",
    "\n",
    "the target of this script is concatenation all csv files in one file (alldata.cdv)"
   ]
  },
  {
   "cell_type": "code",
   "execution_count": 1,
   "id": "f151ce3f",
   "metadata": {},
   "outputs": [],
   "source": [
    "#import packages\n",
    "import os \n",
    "import pandas as pd \n",
    "import matplotlib.pyplot as plt \n",
    "import seaborn as sns"
   ]
  },
  {
   "cell_type": "code",
   "execution_count": 4,
   "id": "7d7e23d3",
   "metadata": {},
   "outputs": [
    {
     "name": "stdout",
     "output_type": "stream",
     "text": [
      "Sales_April_2019.csv\n",
      "Sales_August_2019.csv\n",
      "Sales_December_2019.csv\n",
      "Sales_February_2019.csv\n",
      "Sales_January_2019.csv\n",
      "Sales_July_2019.csv\n",
      "Sales_June_2019.csv\n",
      "Sales_March_2019.csv\n",
      "Sales_May_2019.csv\n",
      "Sales_November_2019.csv\n",
      "Sales_October_2019.csv\n",
      "Sales_September_2019.csv\n"
     ]
    }
   ],
   "source": [
    "#get files from this path \n",
    "files=[file for file in os.listdir(r'C:\\Users\\Wahbi\\Desktop\\omarnabi_exemnn\\data project\\Sales_Data')]\n",
    "for file in files:\n",
    " print(file)"
   ]
  },
  {
   "cell_type": "code",
   "execution_count": 7,
   "id": "2e7ec5f4",
   "metadata": {},
   "outputs": [],
   "source": [
    "#the path in my descktop  \n",
    "path=r'C:\\Users\\Wahbi\\Desktop\\omarnabi_exemnn\\data project\\Sales_Data'\n"
   ]
  },
  {
   "cell_type": "code",
   "execution_count": 9,
   "id": "7498ce56",
   "metadata": {},
   "outputs": [],
   "source": [
    "#create dataset to all files\n",
    "alldata=pd.DataFrame()"
   ]
  },
  {
   "cell_type": "code",
   "execution_count": 14,
   "id": "ad964a99",
   "metadata": {},
   "outputs": [],
   "source": [
    "for file in files:\n",
    "  data=pd.read_csv(path+'/'+file)\n",
    "  alldata=pd.concat([alldata,data])\n"
   ]
  },
  {
   "cell_type": "code",
   "execution_count": 15,
   "id": "1cf1bdaa",
   "metadata": {},
   "outputs": [
    {
     "name": "stdout",
     "output_type": "stream",
     "text": [
      "      Order ID                     Product Quantity Ordered Price Each  \\\n",
      "0       176558        USB-C Charging Cable                2      11.95   \n",
      "1          NaN                         NaN              NaN        NaN   \n",
      "2       176559  Bose SoundSport Headphones                1      99.99   \n",
      "3       176560                Google Phone                1        600   \n",
      "4       176560            Wired Headphones                1      11.99   \n",
      "...        ...                         ...              ...        ...   \n",
      "11681   259353      AAA Batteries (4-pack)                3       2.99   \n",
      "11682   259354                      iPhone                1        700   \n",
      "11683   259355                      iPhone                1        700   \n",
      "11684   259356      34in Ultrawide Monitor                1     379.99   \n",
      "11685   259357        USB-C Charging Cable                1      11.95   \n",
      "\n",
      "           Order Date                         Purchase Address  \n",
      "0      04/19/19 08:46             917 1st St, Dallas, TX 75001  \n",
      "1                 NaN                                      NaN  \n",
      "2      04/07/19 22:30        682 Chestnut St, Boston, MA 02215  \n",
      "3      04/12/19 14:38     669 Spruce St, Los Angeles, CA 90001  \n",
      "4      04/12/19 14:38     669 Spruce St, Los Angeles, CA 90001  \n",
      "...               ...                                      ...  \n",
      "11681  09/17/19 20:56   840 Highland St, Los Angeles, CA 90001  \n",
      "11682  09/01/19 16:00  216 Dogwood St, San Francisco, CA 94016  \n",
      "11683  09/23/19 07:39     220 12th St, San Francisco, CA 94016  \n",
      "11684  09/19/19 17:30   511 Forest St, San Francisco, CA 94016  \n",
      "11685  09/30/19 00:18   250 Meadow St, San Francisco, CA 94016  \n",
      "\n",
      "[186850 rows x 6 columns]\n"
     ]
    }
   ],
   "source": [
    "print(alldata)"
   ]
  },
  {
   "cell_type": "code",
   "execution_count": 24,
   "id": "14e8f296",
   "metadata": {},
   "outputs": [
    {
     "data": {
      "text/plain": [
       "6"
      ]
     },
     "execution_count": 24,
     "metadata": {},
     "output_type": "execute_result"
    }
   ],
   "source": [
    "#verification number of rows\n",
    "filttest=pd.read_csv(path+'/'+'Sales_April_2019.csv')\n",
    "culmn=len(filttest.columns)\n",
    "culmn"
   ]
  },
  {
   "cell_type": "code",
   "execution_count": 26,
   "id": "f7d969f1",
   "metadata": {},
   "outputs": [
    {
     "name": "stdout",
     "output_type": "stream",
     "text": [
      "186850\n"
     ]
    }
   ],
   "source": [
    "allrows=0\n",
    "for file in files:\n",
    "  data=pd.read_csv(path+'/'+file) \n",
    "  a=len(data)\n",
    "  allrows=a+allrows\n",
    "print(allrows)"
   ]
  },
  {
   "cell_type": "code",
   "execution_count": 27,
   "id": "0c8b337e",
   "metadata": {},
   "outputs": [],
   "source": [
    "alldata.to_csv(path+'/'+'alldata.csv')"
   ]
  },
  {
   "cell_type": "code",
   "execution_count": null,
   "id": "b81f85d5",
   "metadata": {},
   "outputs": [],
   "source": []
  }
 ],
 "metadata": {
  "kernelspec": {
   "display_name": "Python 3 (ipykernel)",
   "language": "python",
   "name": "python3"
  },
  "language_info": {
   "codemirror_mode": {
    "name": "ipython",
    "version": 3
   },
   "file_extension": ".py",
   "mimetype": "text/x-python",
   "name": "python",
   "nbconvert_exporter": "python",
   "pygments_lexer": "ipython3",
   "version": "3.9.12"
  }
 },
 "nbformat": 4,
 "nbformat_minor": 5
}
